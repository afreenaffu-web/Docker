{
 "cells": [
  {
   "cell_type": "code",
   "execution_count": 1,
   "id": "7f8ad397",
   "metadata": {},
   "outputs": [],
   "source": [
    "import pandas"
   ]
  },
  {
   "cell_type": "code",
   "execution_count": 2,
   "id": "83857724",
   "metadata": {},
   "outputs": [],
   "source": [
    "ds=pandas.read_csv('50_Startups.csv')"
   ]
  },
  {
   "cell_type": "code",
   "execution_count": 5,
   "id": "dfbd669b",
   "metadata": {},
   "outputs": [],
   "source": [
    "state=ds['State']"
   ]
  },
  {
   "cell_type": "code",
   "execution_count": 9,
   "id": "84f1c9c6",
   "metadata": {},
   "outputs": [],
   "source": [
    "from sklearn.preprocessing import LabelEncoder"
   ]
  },
  {
   "cell_type": "code",
   "execution_count": 10,
   "id": "e2ffb570",
   "metadata": {},
   "outputs": [],
   "source": [
    "state_le=LabelEncoder()"
   ]
  },
  {
   "cell_type": "code",
   "execution_count": 11,
   "id": "b5fbd326",
   "metadata": {},
   "outputs": [],
   "source": [
    "state_le_final=state_le.fit_transform(state).reshape(-1,1)"
   ]
  },
  {
   "cell_type": "code",
   "execution_count": 13,
   "id": "11123277",
   "metadata": {},
   "outputs": [],
   "source": [
    "from sklearn.preprocessing import OneHotEncoder"
   ]
  },
  {
   "cell_type": "code",
   "execution_count": 14,
   "id": "c63e6356",
   "metadata": {},
   "outputs": [],
   "source": [
    "state_ohe=OneHotEncoder()"
   ]
  },
  {
   "cell_type": "code",
   "execution_count": 15,
   "id": "23497ec6",
   "metadata": {},
   "outputs": [],
   "source": [
    "state_dump=state_ohe.fit_transform(state_le_final)"
   ]
  },
  {
   "cell_type": "code",
   "execution_count": 16,
   "id": "b4d18499",
   "metadata": {},
   "outputs": [],
   "source": [
    "state_f=state_dump.toarray()"
   ]
  },
  {
   "cell_type": "code",
   "execution_count": 18,
   "id": "8f882ddb",
   "metadata": {},
   "outputs": [],
   "source": [
    "state_f=state_f[:,0:2]"
   ]
  },
  {
   "cell_type": "code",
   "execution_count": 20,
   "id": "2d26075f",
   "metadata": {},
   "outputs": [],
   "source": [
    "y=ds['Profit']"
   ]
  },
  {
   "cell_type": "code",
   "execution_count": 23,
   "id": "e6d2d9bc",
   "metadata": {},
   "outputs": [],
   "source": [
    "X=ds[['R&D Spend','Administration','Marketing Spend']]"
   ]
  },
  {
   "cell_type": "code",
   "execution_count": 24,
   "id": "057e6132",
   "metadata": {},
   "outputs": [],
   "source": [
    "import numpy"
   ]
  },
  {
   "cell_type": "code",
   "execution_count": 25,
   "id": "9f8eea6e",
   "metadata": {},
   "outputs": [],
   "source": [
    "X=numpy.hstack((X,state_f))"
   ]
  },
  {
   "cell_type": "code",
   "execution_count": 26,
   "id": "e05dde09",
   "metadata": {},
   "outputs": [],
   "source": [
    "from sklearn.linear_model import LinearRegression"
   ]
  },
  {
   "cell_type": "code",
   "execution_count": 28,
   "id": "6b7ed4a6",
   "metadata": {},
   "outputs": [],
   "source": [
    "model=LinearRegression()"
   ]
  },
  {
   "cell_type": "code",
   "execution_count": 29,
   "id": "a0957605",
   "metadata": {},
   "outputs": [
    {
     "data": {
      "text/plain": [
       "LinearRegression()"
      ]
     },
     "execution_count": 29,
     "metadata": {},
     "output_type": "execute_result"
    }
   ],
   "source": [
    "model.fit(X,y)"
   ]
  },
  {
   "cell_type": "code",
   "execution_count": 30,
   "id": "d9676914",
   "metadata": {},
   "outputs": [
    {
     "data": {
      "text/plain": [
       "array([ 8.06023114e-01, -2.70043196e-02,  2.69798610e-02,  4.18870191e+01,\n",
       "        2.40675812e+02])"
      ]
     },
     "execution_count": 30,
     "metadata": {},
     "output_type": "execute_result"
    }
   ],
   "source": [
    "model.coef_\n"
   ]
  },
  {
   "cell_type": "code",
   "execution_count": 34,
   "id": "b70b1dd3",
   "metadata": {},
   "outputs": [
    {
     "data": {
      "text/plain": [
       "array([182077.39793998])"
      ]
     },
     "execution_count": 34,
     "metadata": {},
     "output_type": "execute_result"
    }
   ],
   "source": [
    "model.predict([[153441.51,101145.55,407934.54,1,0]])"
   ]
  },
  {
   "cell_type": "code",
   "execution_count": null,
   "id": "7cb780d6",
   "metadata": {},
   "outputs": [],
   "source": []
  },
  {
   "cell_type": "code",
   "execution_count": null,
   "id": "969cf3e4",
   "metadata": {},
   "outputs": [],
   "source": []
  },
  {
   "cell_type": "code",
   "execution_count": null,
   "id": "8537b66e",
   "metadata": {},
   "outputs": [],
   "source": []
  },
  {
   "cell_type": "code",
   "execution_count": null,
   "id": "65bd825e",
   "metadata": {},
   "outputs": [],
   "source": []
  }
 ],
 "metadata": {
  "kernelspec": {
   "display_name": "Python 3",
   "language": "python",
   "name": "python3"
  },
  "language_info": {
   "codemirror_mode": {
    "name": "ipython",
    "version": 3
   },
   "file_extension": ".py",
   "mimetype": "text/x-python",
   "name": "python",
   "nbconvert_exporter": "python",
   "pygments_lexer": "ipython3",
   "version": "3.8.8"
  }
 },
 "nbformat": 4,
 "nbformat_minor": 5
}
